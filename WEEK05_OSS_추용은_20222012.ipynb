{
  "nbformat": 4,
  "nbformat_minor": 0,
  "metadata": {
    "colab": {
      "provenance": []
    },
    "kernelspec": {
      "name": "python3",
      "display_name": "Python 3"
    },
    "language_info": {
      "name": "python"
    }
  },
  "cells": [
    {
      "cell_type": "code",
      "execution_count": 35,
      "metadata": {
        "id": "3sRyKKWvCeP4"
      },
      "outputs": [],
      "source": [
        "#예제1\n",
        "DIAL_CODES = [\n",
        "    (86, 'China'),\n",
        "    (91, 'India'),\n",
        "    (1, 'United States'),\n",
        "    (55, 'Brazil'),\n",
        "    (7, 'Russia'),\n",
        "]"
      ]
    },
    {
      "cell_type": "code",
      "source": [
        "country_code = {country: code for code, country in DIAL_CODES}\n",
        "country_code"
      ],
      "metadata": {
        "colab": {
          "base_uri": "https://localhost:8080/"
        },
        "id": "z_yLgmFeDjYE",
        "outputId": "c9e6ab3b-5ee3-4678-bb7b-743c3ff0b2c8"
      },
      "execution_count": 36,
      "outputs": [
        {
          "output_type": "execute_result",
          "data": {
            "text/plain": [
              "{'China': 86, 'India': 91, 'United States': 1, 'Brazil': 55, 'Russia': 7}"
            ]
          },
          "metadata": {},
          "execution_count": 36
        }
      ]
    },
    {
      "cell_type": "code",
      "source": [
        "{code: country.upper() for country, code in country_code.items()\n",
        "    if code<66}"
      ],
      "metadata": {
        "colab": {
          "base_uri": "https://localhost:8080/"
        },
        "id": "g0tnP99nD-2W",
        "outputId": "d754a562-758a-4829-fd19-4f471e9eee15"
      },
      "execution_count": 37,
      "outputs": [
        {
          "output_type": "execute_result",
          "data": {
            "text/plain": [
              "{1: 'UNITED STATES', 55: 'BRAZIL', 7: 'RUSSIA'}"
            ]
          },
          "metadata": {},
          "execution_count": 37
        }
      ]
    },
    {
      "cell_type": "code",
      "source": [
        "#예제2\n",
        "import sys, re\n",
        "\n",
        "WORD_RE = re.compile(r'\\w+')\n",
        "index = {}\n",
        "\n",
        "with open(\"sejong.txt\", encoding = 'utf-8') as fp:\n",
        "  for line_no, line in enumerate(fp, 1):\n",
        "    for match in WORD_RE.finditer(line):\n",
        "      word = match.group()\n",
        "      column_no = match.start()+1\n",
        "      location = (line_no, column_no)\n",
        "      occurence = index.get(word, [])\n",
        "      occurence.append(location)\n",
        "      index[word] = occurence\n",
        "\n",
        "for word in sorted(index, key = str.upper):\n",
        "  print(word, index[word])"
      ],
      "metadata": {
        "colab": {
          "base_uri": "https://localhost:8080/"
        },
        "id": "QoKxsEKfEKiT",
        "outputId": "82d8d70e-29d5-40cb-ce3f-86175eeafb65"
      },
      "execution_count": 38,
      "outputs": [
        {
          "output_type": "stream",
          "name": "stdout",
          "text": [
            "1 [(3, 447)]\n",
            "1397 [(1, 39)]\n",
            "1418 [(3, 118)]\n",
            "1422 [(3, 441)]\n",
            "1439 [(7, 6)]\n",
            "1450 [(1, 55), (7, 123)]\n",
            "15 [(1, 32)]\n",
            "2 [(5, 168)]\n",
            "3 [(5, 171)]\n",
            "30 [(1, 46)]\n",
            "4 [(5, 479)]\n",
            "5 [(5, 482)]\n",
            "6 [(7, 39)]\n",
            "a [(3, 184), (5, 339)]\n",
            "abdicated [(3, 224)]\n",
            "absolute [(3, 359)]\n",
            "acted [(7, 85)]\n",
            "advancements [(5, 185)]\n",
            "alphabet [(1, 316), (5, 158)]\n",
            "also [(5, 431)]\n",
            "amendments [(5, 88)]\n",
            "and [(1, 260), (3, 94), (3, 378), (3, 398), (5, 36), (5, 64), (5, 131), (5, 209), (5, 225), (5, 323), (7, 42)]\n",
            "areas [(5, 421)]\n",
            "as [(1, 107), (1, 211), (1, 278), (3, 167), (7, 91)]\n",
            "became [(7, 15)]\n",
            "brother [(3, 151)]\n",
            "campaigns [(5, 300)]\n",
            "Chungnyeong [(3, 31)]\n",
            "commonly [(1, 92)]\n",
            "Confucian [(5, 26), (5, 44)]\n",
            "conquered [(5, 411)]\n",
            "continued [(3, 402)]\n",
            "created [(5, 123)]\n",
            "crown [(3, 170)]\n",
            "Crown [(7, 62)]\n",
            "death [(3, 432)]\n",
            "died [(7, 109)]\n",
            "dynasty [(1, 178)]\n",
            "early [(3, 271)]\n",
            "economic [(5, 262)]\n",
            "eldest [(3, 144), (7, 50)]\n",
            "Emeritus [(3, 307)]\n",
            "enacted [(5, 68)]\n",
            "encouraged [(5, 174)]\n",
            "establishing [(5, 373)]\n",
            "executive [(3, 368)]\n",
            "favor [(3, 257)]\n",
            "few [(3, 186)]\n",
            "fourth [(1, 149)]\n",
            "From [(7, 1)]\n",
            "govern [(3, 415)]\n",
            "Grand [(3, 18)]\n",
            "Great [(1, 121)]\n",
            "greatest [(1, 225)]\n",
            "growth [(5, 271)]\n",
            "Hangul [(1, 297)]\n",
            "Hanja [(1, 21)]\n",
            "He [(1, 196), (5, 109), (5, 279), (5, 428)]\n",
            "he [(3, 57), (7, 12)]\n",
            "his [(3, 140), (3, 428), (7, 46)]\n",
            "history [(1, 251)]\n",
            "Hyang [(7, 78)]\n",
            "ill [(7, 35)]\n",
            "implemented [(5, 327)]\n",
            "in [(1, 241), (3, 245), (3, 438), (5, 198), (5, 398)]\n",
            "In [(3, 115), (3, 264)]\n",
            "increasingly [(7, 22)]\n",
            "Initially [(3, 1)]\n",
            "introduced [(5, 229)]\n",
            "inventor [(1, 285)]\n",
            "is [(1, 199), (1, 264)]\n",
            "island [(5, 471)]\n",
            "Je [(3, 163)]\n",
            "Joseon [(1, 171)]\n",
            "King [(3, 81), (3, 302)]\n",
            "known [(1, 101)]\n",
            "Korea [(1, 189)]\n",
            "Korean [(1, 9), (1, 244), (1, 332), (5, 19), (5, 151)]\n",
            "language [(1, 339)]\n",
            "later [(3, 197)]\n",
            "launched [(5, 282)]\n",
            "legal [(5, 82)]\n",
            "major [(5, 76)]\n",
            "March [(1, 49), (7, 117)]\n",
            "May [(1, 35)]\n",
            "measures [(5, 240)]\n",
            "military [(3, 382), (5, 291)]\n",
            "monarch [(1, 156)]\n",
            "months [(3, 190)]\n",
            "most [(3, 346)]\n",
            "name [(1, 71)]\n",
            "native [(1, 309)]\n",
            "Neo [(5, 40)]\n",
            "newly [(5, 405)]\n",
            "north [(5, 317)]\n",
            "notably [(3, 351)]\n",
            "Occupation [(5, 448)]\n",
            "of [(1, 164), (1, 186), (1, 218), (1, 294), (1, 325), (3, 78), (3, 283), (5, 459)]\n",
            "on [(7, 114)]\n",
            "one [(1, 214)]\n",
            "ordered [(5, 436)]\n",
            "personal [(1, 62)]\n",
            "personally [(5, 112)]\n",
            "policies [(5, 54)]\n",
            "policy [(5, 352)]\n",
            "power [(3, 391)]\n",
            "powers [(3, 338)]\n",
            "Prince [(3, 24), (7, 68)]\n",
            "prince [(3, 176)]\n",
            "promulgated [(5, 135)]\n",
            "Queen [(3, 98)]\n",
            "regarded [(1, 202)]\n",
            "regent [(7, 94)]\n",
            "reign [(3, 295)]\n",
            "reinforced [(5, 8)]\n",
            "relocation [(5, 341)]\n",
            "remembered [(1, 267)]\n",
            "replaced [(3, 131)]\n",
            "retained [(3, 324)]\n",
            "rulers [(1, 234)]\n",
            "s [(3, 255), (3, 293)]\n",
            "science [(5, 201)]\n",
            "Sejong [(1, 1), (1, 110), (3, 124), (3, 248), (3, 286), (5, 1), (7, 102)]\n",
            "settlements [(5, 386)]\n",
            "son [(3, 74), (7, 57)]\n",
            "stimulate [(5, 252)]\n",
            "Taejong [(3, 86), (3, 204), (3, 316)]\n",
            "technology [(5, 213)]\n",
            "the [(1, 117), (1, 145), (1, 167), (1, 221), (1, 281), (1, 305), (1, 328), (3, 64), (3, 234), (3, 267), (5, 147), (5, 313), (5, 401), (5, 444)]\n",
            "third [(3, 68)]\n",
            "throne [(3, 238)]\n",
            "titled [(3, 11)]\n",
            "To [(1, 79)]\n",
            "to [(3, 412), (5, 249), (5, 310)]\n",
            "Tsushima [(5, 462)]\n",
            "until [(3, 422)]\n",
            "vast [(3, 333)]\n",
            "voluntarily [(3, 212)]\n",
            "was [(1, 141), (3, 60)]\n",
            "Wongyeong [(3, 104)]\n",
            "years [(3, 277)]\n",
            "Yi [(1, 76), (3, 160), (7, 75)]\n",
            "世宗 [(1, 28)]\n",
            "世宗大王 [(1, 134)]\n",
            "徙民政策 [(5, 366)]\n",
            "忠寧大君 [(3, 50)]\n",
            "李祹 [(1, 87)]\n",
            "貢法 [(5, 104)]\n",
            "공법 [(5, 100)]\n",
            "사민정책 [(5, 360)]\n",
            "세종 [(1, 17)]\n",
            "세종대왕 [(1, 128)]\n",
            "이도 [(1, 83)]\n",
            "충녕대군 [(3, 44)]\n"
          ]
        }
      ]
    },
    {
      "cell_type": "code",
      "source": [
        "#예제3\n",
        "import sys, re\n",
        "\n",
        "WORD_RE = re.compile(r'\\w+')\n",
        "index = {}\n",
        "\n",
        "with open(\"sejong.txt\", encoding = 'utf-8') as fp:\n",
        "  for line_no, line in enumerate(fp, 1):\n",
        "    for match in WORD_RE.finditer(line):\n",
        "      word = match.group()\n",
        "      column_no = match.start()+1\n",
        "      location = (line_no, column_no)\n",
        "      index.setdefault(word, []).append(location)\n",
        "\n",
        "for word in sorted(index, key = str.upper):\n",
        "  print(word, index[word])"
      ],
      "metadata": {
        "colab": {
          "base_uri": "https://localhost:8080/"
        },
        "id": "X8IeLPDhEMXE",
        "outputId": "cad5d283-d551-4467-dde6-9f1c12570f91"
      },
      "execution_count": 39,
      "outputs": [
        {
          "output_type": "stream",
          "name": "stdout",
          "text": [
            "1 [(3, 447)]\n",
            "1397 [(1, 39)]\n",
            "1418 [(3, 118)]\n",
            "1422 [(3, 441)]\n",
            "1439 [(7, 6)]\n",
            "1450 [(1, 55), (7, 123)]\n",
            "15 [(1, 32)]\n",
            "2 [(5, 168)]\n",
            "3 [(5, 171)]\n",
            "30 [(1, 46)]\n",
            "4 [(5, 479)]\n",
            "5 [(5, 482)]\n",
            "6 [(7, 39)]\n",
            "a [(3, 184), (5, 339)]\n",
            "abdicated [(3, 224)]\n",
            "absolute [(3, 359)]\n",
            "acted [(7, 85)]\n",
            "advancements [(5, 185)]\n",
            "alphabet [(1, 316), (5, 158)]\n",
            "also [(5, 431)]\n",
            "amendments [(5, 88)]\n",
            "and [(1, 260), (3, 94), (3, 378), (3, 398), (5, 36), (5, 64), (5, 131), (5, 209), (5, 225), (5, 323), (7, 42)]\n",
            "areas [(5, 421)]\n",
            "as [(1, 107), (1, 211), (1, 278), (3, 167), (7, 91)]\n",
            "became [(7, 15)]\n",
            "brother [(3, 151)]\n",
            "campaigns [(5, 300)]\n",
            "Chungnyeong [(3, 31)]\n",
            "commonly [(1, 92)]\n",
            "Confucian [(5, 26), (5, 44)]\n",
            "conquered [(5, 411)]\n",
            "continued [(3, 402)]\n",
            "created [(5, 123)]\n",
            "crown [(3, 170)]\n",
            "Crown [(7, 62)]\n",
            "death [(3, 432)]\n",
            "died [(7, 109)]\n",
            "dynasty [(1, 178)]\n",
            "early [(3, 271)]\n",
            "economic [(5, 262)]\n",
            "eldest [(3, 144), (7, 50)]\n",
            "Emeritus [(3, 307)]\n",
            "enacted [(5, 68)]\n",
            "encouraged [(5, 174)]\n",
            "establishing [(5, 373)]\n",
            "executive [(3, 368)]\n",
            "favor [(3, 257)]\n",
            "few [(3, 186)]\n",
            "fourth [(1, 149)]\n",
            "From [(7, 1)]\n",
            "govern [(3, 415)]\n",
            "Grand [(3, 18)]\n",
            "Great [(1, 121)]\n",
            "greatest [(1, 225)]\n",
            "growth [(5, 271)]\n",
            "Hangul [(1, 297)]\n",
            "Hanja [(1, 21)]\n",
            "He [(1, 196), (5, 109), (5, 279), (5, 428)]\n",
            "he [(3, 57), (7, 12)]\n",
            "his [(3, 140), (3, 428), (7, 46)]\n",
            "history [(1, 251)]\n",
            "Hyang [(7, 78)]\n",
            "ill [(7, 35)]\n",
            "implemented [(5, 327)]\n",
            "in [(1, 241), (3, 245), (3, 438), (5, 198), (5, 398)]\n",
            "In [(3, 115), (3, 264)]\n",
            "increasingly [(7, 22)]\n",
            "Initially [(3, 1)]\n",
            "introduced [(5, 229)]\n",
            "inventor [(1, 285)]\n",
            "is [(1, 199), (1, 264)]\n",
            "island [(5, 471)]\n",
            "Je [(3, 163)]\n",
            "Joseon [(1, 171)]\n",
            "King [(3, 81), (3, 302)]\n",
            "known [(1, 101)]\n",
            "Korea [(1, 189)]\n",
            "Korean [(1, 9), (1, 244), (1, 332), (5, 19), (5, 151)]\n",
            "language [(1, 339)]\n",
            "later [(3, 197)]\n",
            "launched [(5, 282)]\n",
            "legal [(5, 82)]\n",
            "major [(5, 76)]\n",
            "March [(1, 49), (7, 117)]\n",
            "May [(1, 35)]\n",
            "measures [(5, 240)]\n",
            "military [(3, 382), (5, 291)]\n",
            "monarch [(1, 156)]\n",
            "months [(3, 190)]\n",
            "most [(3, 346)]\n",
            "name [(1, 71)]\n",
            "native [(1, 309)]\n",
            "Neo [(5, 40)]\n",
            "newly [(5, 405)]\n",
            "north [(5, 317)]\n",
            "notably [(3, 351)]\n",
            "Occupation [(5, 448)]\n",
            "of [(1, 164), (1, 186), (1, 218), (1, 294), (1, 325), (3, 78), (3, 283), (5, 459)]\n",
            "on [(7, 114)]\n",
            "one [(1, 214)]\n",
            "ordered [(5, 436)]\n",
            "personal [(1, 62)]\n",
            "personally [(5, 112)]\n",
            "policies [(5, 54)]\n",
            "policy [(5, 352)]\n",
            "power [(3, 391)]\n",
            "powers [(3, 338)]\n",
            "Prince [(3, 24), (7, 68)]\n",
            "prince [(3, 176)]\n",
            "promulgated [(5, 135)]\n",
            "Queen [(3, 98)]\n",
            "regarded [(1, 202)]\n",
            "regent [(7, 94)]\n",
            "reign [(3, 295)]\n",
            "reinforced [(5, 8)]\n",
            "relocation [(5, 341)]\n",
            "remembered [(1, 267)]\n",
            "replaced [(3, 131)]\n",
            "retained [(3, 324)]\n",
            "rulers [(1, 234)]\n",
            "s [(3, 255), (3, 293)]\n",
            "science [(5, 201)]\n",
            "Sejong [(1, 1), (1, 110), (3, 124), (3, 248), (3, 286), (5, 1), (7, 102)]\n",
            "settlements [(5, 386)]\n",
            "son [(3, 74), (7, 57)]\n",
            "stimulate [(5, 252)]\n",
            "Taejong [(3, 86), (3, 204), (3, 316)]\n",
            "technology [(5, 213)]\n",
            "the [(1, 117), (1, 145), (1, 167), (1, 221), (1, 281), (1, 305), (1, 328), (3, 64), (3, 234), (3, 267), (5, 147), (5, 313), (5, 401), (5, 444)]\n",
            "third [(3, 68)]\n",
            "throne [(3, 238)]\n",
            "titled [(3, 11)]\n",
            "To [(1, 79)]\n",
            "to [(3, 412), (5, 249), (5, 310)]\n",
            "Tsushima [(5, 462)]\n",
            "until [(3, 422)]\n",
            "vast [(3, 333)]\n",
            "voluntarily [(3, 212)]\n",
            "was [(1, 141), (3, 60)]\n",
            "Wongyeong [(3, 104)]\n",
            "years [(3, 277)]\n",
            "Yi [(1, 76), (3, 160), (7, 75)]\n",
            "世宗 [(1, 28)]\n",
            "世宗大王 [(1, 134)]\n",
            "徙民政策 [(5, 366)]\n",
            "忠寧大君 [(3, 50)]\n",
            "李祹 [(1, 87)]\n",
            "貢法 [(5, 104)]\n",
            "공법 [(5, 100)]\n",
            "사민정책 [(5, 360)]\n",
            "세종 [(1, 17)]\n",
            "세종대왕 [(1, 128)]\n",
            "이도 [(1, 83)]\n",
            "충녕대군 [(3, 44)]\n"
          ]
        }
      ]
    },
    {
      "cell_type": "code",
      "source": [
        "#예제4\n",
        "import sys, re, collections\n",
        "\n",
        "WORD_RE = re.compile(r'\\w+')\n",
        "index = collections.defaultdict(list)\n",
        "\n",
        "with open(\"sejong.txt\", encoding = 'utf-8') as fp:\n",
        "  for line_no, line in enumerate(fp, 1):\n",
        "    for match in WORD_RE.finditer(line):\n",
        "      word = match.group()\n",
        "      column_no = match.start()+1\n",
        "      location = (line_no, column_no)\n",
        "      index[word].append(location)\n",
        "\n",
        "for word in sorted(index, key = str.upper):\n",
        "  print(word, index[word])"
      ],
      "metadata": {
        "colab": {
          "base_uri": "https://localhost:8080/"
        },
        "id": "V8Bi4ozzEMdq",
        "outputId": "478fa340-d455-4329-95a7-a526887a1b13"
      },
      "execution_count": 40,
      "outputs": [
        {
          "output_type": "stream",
          "name": "stdout",
          "text": [
            "1 [(3, 447)]\n",
            "1397 [(1, 39)]\n",
            "1418 [(3, 118)]\n",
            "1422 [(3, 441)]\n",
            "1439 [(7, 6)]\n",
            "1450 [(1, 55), (7, 123)]\n",
            "15 [(1, 32)]\n",
            "2 [(5, 168)]\n",
            "3 [(5, 171)]\n",
            "30 [(1, 46)]\n",
            "4 [(5, 479)]\n",
            "5 [(5, 482)]\n",
            "6 [(7, 39)]\n",
            "a [(3, 184), (5, 339)]\n",
            "abdicated [(3, 224)]\n",
            "absolute [(3, 359)]\n",
            "acted [(7, 85)]\n",
            "advancements [(5, 185)]\n",
            "alphabet [(1, 316), (5, 158)]\n",
            "also [(5, 431)]\n",
            "amendments [(5, 88)]\n",
            "and [(1, 260), (3, 94), (3, 378), (3, 398), (5, 36), (5, 64), (5, 131), (5, 209), (5, 225), (5, 323), (7, 42)]\n",
            "areas [(5, 421)]\n",
            "as [(1, 107), (1, 211), (1, 278), (3, 167), (7, 91)]\n",
            "became [(7, 15)]\n",
            "brother [(3, 151)]\n",
            "campaigns [(5, 300)]\n",
            "Chungnyeong [(3, 31)]\n",
            "commonly [(1, 92)]\n",
            "Confucian [(5, 26), (5, 44)]\n",
            "conquered [(5, 411)]\n",
            "continued [(3, 402)]\n",
            "created [(5, 123)]\n",
            "crown [(3, 170)]\n",
            "Crown [(7, 62)]\n",
            "death [(3, 432)]\n",
            "died [(7, 109)]\n",
            "dynasty [(1, 178)]\n",
            "early [(3, 271)]\n",
            "economic [(5, 262)]\n",
            "eldest [(3, 144), (7, 50)]\n",
            "Emeritus [(3, 307)]\n",
            "enacted [(5, 68)]\n",
            "encouraged [(5, 174)]\n",
            "establishing [(5, 373)]\n",
            "executive [(3, 368)]\n",
            "favor [(3, 257)]\n",
            "few [(3, 186)]\n",
            "fourth [(1, 149)]\n",
            "From [(7, 1)]\n",
            "govern [(3, 415)]\n",
            "Grand [(3, 18)]\n",
            "Great [(1, 121)]\n",
            "greatest [(1, 225)]\n",
            "growth [(5, 271)]\n",
            "Hangul [(1, 297)]\n",
            "Hanja [(1, 21)]\n",
            "He [(1, 196), (5, 109), (5, 279), (5, 428)]\n",
            "he [(3, 57), (7, 12)]\n",
            "his [(3, 140), (3, 428), (7, 46)]\n",
            "history [(1, 251)]\n",
            "Hyang [(7, 78)]\n",
            "ill [(7, 35)]\n",
            "implemented [(5, 327)]\n",
            "in [(1, 241), (3, 245), (3, 438), (5, 198), (5, 398)]\n",
            "In [(3, 115), (3, 264)]\n",
            "increasingly [(7, 22)]\n",
            "Initially [(3, 1)]\n",
            "introduced [(5, 229)]\n",
            "inventor [(1, 285)]\n",
            "is [(1, 199), (1, 264)]\n",
            "island [(5, 471)]\n",
            "Je [(3, 163)]\n",
            "Joseon [(1, 171)]\n",
            "King [(3, 81), (3, 302)]\n",
            "known [(1, 101)]\n",
            "Korea [(1, 189)]\n",
            "Korean [(1, 9), (1, 244), (1, 332), (5, 19), (5, 151)]\n",
            "language [(1, 339)]\n",
            "later [(3, 197)]\n",
            "launched [(5, 282)]\n",
            "legal [(5, 82)]\n",
            "major [(5, 76)]\n",
            "March [(1, 49), (7, 117)]\n",
            "May [(1, 35)]\n",
            "measures [(5, 240)]\n",
            "military [(3, 382), (5, 291)]\n",
            "monarch [(1, 156)]\n",
            "months [(3, 190)]\n",
            "most [(3, 346)]\n",
            "name [(1, 71)]\n",
            "native [(1, 309)]\n",
            "Neo [(5, 40)]\n",
            "newly [(5, 405)]\n",
            "north [(5, 317)]\n",
            "notably [(3, 351)]\n",
            "Occupation [(5, 448)]\n",
            "of [(1, 164), (1, 186), (1, 218), (1, 294), (1, 325), (3, 78), (3, 283), (5, 459)]\n",
            "on [(7, 114)]\n",
            "one [(1, 214)]\n",
            "ordered [(5, 436)]\n",
            "personal [(1, 62)]\n",
            "personally [(5, 112)]\n",
            "policies [(5, 54)]\n",
            "policy [(5, 352)]\n",
            "power [(3, 391)]\n",
            "powers [(3, 338)]\n",
            "Prince [(3, 24), (7, 68)]\n",
            "prince [(3, 176)]\n",
            "promulgated [(5, 135)]\n",
            "Queen [(3, 98)]\n",
            "regarded [(1, 202)]\n",
            "regent [(7, 94)]\n",
            "reign [(3, 295)]\n",
            "reinforced [(5, 8)]\n",
            "relocation [(5, 341)]\n",
            "remembered [(1, 267)]\n",
            "replaced [(3, 131)]\n",
            "retained [(3, 324)]\n",
            "rulers [(1, 234)]\n",
            "s [(3, 255), (3, 293)]\n",
            "science [(5, 201)]\n",
            "Sejong [(1, 1), (1, 110), (3, 124), (3, 248), (3, 286), (5, 1), (7, 102)]\n",
            "settlements [(5, 386)]\n",
            "son [(3, 74), (7, 57)]\n",
            "stimulate [(5, 252)]\n",
            "Taejong [(3, 86), (3, 204), (3, 316)]\n",
            "technology [(5, 213)]\n",
            "the [(1, 117), (1, 145), (1, 167), (1, 221), (1, 281), (1, 305), (1, 328), (3, 64), (3, 234), (3, 267), (5, 147), (5, 313), (5, 401), (5, 444)]\n",
            "third [(3, 68)]\n",
            "throne [(3, 238)]\n",
            "titled [(3, 11)]\n",
            "To [(1, 79)]\n",
            "to [(3, 412), (5, 249), (5, 310)]\n",
            "Tsushima [(5, 462)]\n",
            "until [(3, 422)]\n",
            "vast [(3, 333)]\n",
            "voluntarily [(3, 212)]\n",
            "was [(1, 141), (3, 60)]\n",
            "Wongyeong [(3, 104)]\n",
            "years [(3, 277)]\n",
            "Yi [(1, 76), (3, 160), (7, 75)]\n",
            "世宗 [(1, 28)]\n",
            "世宗大王 [(1, 134)]\n",
            "徙民政策 [(5, 366)]\n",
            "忠寧大君 [(3, 50)]\n",
            "李祹 [(1, 87)]\n",
            "貢法 [(5, 104)]\n",
            "공법 [(5, 100)]\n",
            "사민정책 [(5, 360)]\n",
            "세종 [(1, 17)]\n",
            "세종대왕 [(1, 128)]\n",
            "이도 [(1, 83)]\n",
            "충녕대군 [(3, 44)]\n"
          ]
        }
      ]
    },
    {
      "cell_type": "code",
      "source": [
        "#예제5\n",
        "class StrKeyDict0(dict):\n",
        "\n",
        "  def __missing__(self, key):\n",
        "    if isinstance(key, str):\n",
        "      raise KeyError(key, str)\n",
        "    return self[str(key)]\n",
        "\n",
        "  def get(self, key, default=None):\n",
        "    try:\n",
        "      return self[key]\n",
        "    except KeyError:\n",
        "      return default\n",
        "\n",
        "    def __contains__(self, key):\n",
        "      return key in self.keys() or str(key) in self.keys()"
      ],
      "metadata": {
        "id": "mWTYUG6UEMj5"
      },
      "execution_count": 41,
      "outputs": []
    },
    {
      "cell_type": "code",
      "source": [
        "#예제6\n",
        "d = StrKeyDict0([('2', 'two'), ('4', 'four')])\n",
        "d['2']"
      ],
      "metadata": {
        "colab": {
          "base_uri": "https://localhost:8080/",
          "height": 35
        },
        "id": "3I6ha390GPfE",
        "outputId": "960efa2b-8da8-4a11-bfb3-26c5b122ba2d"
      },
      "execution_count": 42,
      "outputs": [
        {
          "output_type": "execute_result",
          "data": {
            "text/plain": [
              "'two'"
            ],
            "application/vnd.google.colaboratory.intrinsic+json": {
              "type": "string"
            }
          },
          "metadata": {},
          "execution_count": 42
        }
      ]
    },
    {
      "cell_type": "code",
      "source": [
        "d[4]"
      ],
      "metadata": {
        "colab": {
          "base_uri": "https://localhost:8080/",
          "height": 35
        },
        "id": "lLXQVMrVI7Kx",
        "outputId": "bd666f00-6b06-41b7-d0a6-dc1f5eaf2b4f"
      },
      "execution_count": 43,
      "outputs": [
        {
          "output_type": "execute_result",
          "data": {
            "text/plain": [
              "'four'"
            ],
            "application/vnd.google.colaboratory.intrinsic+json": {
              "type": "string"
            }
          },
          "metadata": {},
          "execution_count": 43
        }
      ]
    },
    {
      "cell_type": "code",
      "source": [
        "d.get('2')"
      ],
      "metadata": {
        "colab": {
          "base_uri": "https://localhost:8080/",
          "height": 35
        },
        "id": "ljeeG33_I7WO",
        "outputId": "36833f79-9ea2-43c5-d6f8-f555f3061b19"
      },
      "execution_count": 44,
      "outputs": [
        {
          "output_type": "execute_result",
          "data": {
            "text/plain": [
              "'two'"
            ],
            "application/vnd.google.colaboratory.intrinsic+json": {
              "type": "string"
            }
          },
          "metadata": {},
          "execution_count": 44
        }
      ]
    },
    {
      "cell_type": "code",
      "source": [
        "d.get(4)"
      ],
      "metadata": {
        "colab": {
          "base_uri": "https://localhost:8080/",
          "height": 35
        },
        "id": "tS294YWnI7fd",
        "outputId": "7533f8ac-97a1-442c-b781-68be49f53787"
      },
      "execution_count": 45,
      "outputs": [
        {
          "output_type": "execute_result",
          "data": {
            "text/plain": [
              "'four'"
            ],
            "application/vnd.google.colaboratory.intrinsic+json": {
              "type": "string"
            }
          },
          "metadata": {},
          "execution_count": 45
        }
      ]
    },
    {
      "cell_type": "code",
      "source": [
        "d.get(1, 'N/A')"
      ],
      "metadata": {
        "colab": {
          "base_uri": "https://localhost:8080/",
          "height": 35
        },
        "id": "2dFgsZxdI7oz",
        "outputId": "ee9e39f9-9626-4e72-b41d-fb42fe982971"
      },
      "execution_count": 46,
      "outputs": [
        {
          "output_type": "execute_result",
          "data": {
            "text/plain": [
              "'N/A'"
            ],
            "application/vnd.google.colaboratory.intrinsic+json": {
              "type": "string"
            }
          },
          "metadata": {},
          "execution_count": 46
        }
      ]
    },
    {
      "cell_type": "code",
      "source": [
        "2 in d"
      ],
      "metadata": {
        "colab": {
          "base_uri": "https://localhost:8080/"
        },
        "id": "1ioeVxJwI7zj",
        "outputId": "9a3e1a45-42ec-4a6d-cdb8-fc6e0c583698"
      },
      "execution_count": 47,
      "outputs": [
        {
          "output_type": "execute_result",
          "data": {
            "text/plain": [
              "False"
            ]
          },
          "metadata": {},
          "execution_count": 47
        }
      ]
    },
    {
      "cell_type": "code",
      "source": [
        "#예제7\n",
        "d[1]"
      ],
      "metadata": {
        "colab": {
          "base_uri": "https://localhost:8080/",
          "height": 318
        },
        "id": "X8P-yg1dGPja",
        "outputId": "c4c752ae-d7df-43dc-ae86-7e2651244773"
      },
      "execution_count": 49,
      "outputs": [
        {
          "output_type": "error",
          "ename": "KeyError",
          "evalue": "('1', <class 'str'>)",
          "traceback": [
            "\u001b[0;31m---------------------------------------------------------------------------\u001b[0m",
            "\u001b[0;31mKeyError\u001b[0m                                  Traceback (most recent call last)",
            "\u001b[0;32m/tmp/ipython-input-27758319.py\u001b[0m in \u001b[0;36m<cell line: 0>\u001b[0;34m()\u001b[0m\n\u001b[1;32m      1\u001b[0m \u001b[0;31m#예제7\u001b[0m\u001b[0;34m\u001b[0m\u001b[0;34m\u001b[0m\u001b[0m\n\u001b[0;32m----> 2\u001b[0;31m \u001b[0md\u001b[0m\u001b[0;34m[\u001b[0m\u001b[0;36m1\u001b[0m\u001b[0;34m]\u001b[0m\u001b[0;34m\u001b[0m\u001b[0;34m\u001b[0m\u001b[0m\n\u001b[0m",
            "\u001b[0;32m/tmp/ipython-input-1023967707.py\u001b[0m in \u001b[0;36m__missing__\u001b[0;34m(self, key)\u001b[0m\n\u001b[1;32m      5\u001b[0m     \u001b[0;32mif\u001b[0m \u001b[0misinstance\u001b[0m\u001b[0;34m(\u001b[0m\u001b[0mkey\u001b[0m\u001b[0;34m,\u001b[0m \u001b[0mstr\u001b[0m\u001b[0;34m)\u001b[0m\u001b[0;34m:\u001b[0m\u001b[0;34m\u001b[0m\u001b[0;34m\u001b[0m\u001b[0m\n\u001b[1;32m      6\u001b[0m       \u001b[0;32mraise\u001b[0m \u001b[0mKeyError\u001b[0m\u001b[0;34m(\u001b[0m\u001b[0mkey\u001b[0m\u001b[0;34m,\u001b[0m \u001b[0mstr\u001b[0m\u001b[0;34m)\u001b[0m\u001b[0;34m\u001b[0m\u001b[0;34m\u001b[0m\u001b[0m\n\u001b[0;32m----> 7\u001b[0;31m     \u001b[0;32mreturn\u001b[0m \u001b[0mself\u001b[0m\u001b[0;34m[\u001b[0m\u001b[0mstr\u001b[0m\u001b[0;34m(\u001b[0m\u001b[0mkey\u001b[0m\u001b[0;34m)\u001b[0m\u001b[0;34m]\u001b[0m\u001b[0;34m\u001b[0m\u001b[0;34m\u001b[0m\u001b[0m\n\u001b[0m\u001b[1;32m      8\u001b[0m \u001b[0;34m\u001b[0m\u001b[0m\n\u001b[1;32m      9\u001b[0m   \u001b[0;32mdef\u001b[0m \u001b[0mget\u001b[0m\u001b[0;34m(\u001b[0m\u001b[0mself\u001b[0m\u001b[0;34m,\u001b[0m \u001b[0mkey\u001b[0m\u001b[0;34m,\u001b[0m \u001b[0mdefault\u001b[0m\u001b[0;34m=\u001b[0m\u001b[0;32mNone\u001b[0m\u001b[0;34m)\u001b[0m\u001b[0;34m:\u001b[0m\u001b[0;34m\u001b[0m\u001b[0;34m\u001b[0m\u001b[0m\n",
            "\u001b[0;32m/tmp/ipython-input-1023967707.py\u001b[0m in \u001b[0;36m__missing__\u001b[0;34m(self, key)\u001b[0m\n\u001b[1;32m      4\u001b[0m   \u001b[0;32mdef\u001b[0m \u001b[0m__missing__\u001b[0m\u001b[0;34m(\u001b[0m\u001b[0mself\u001b[0m\u001b[0;34m,\u001b[0m \u001b[0mkey\u001b[0m\u001b[0;34m)\u001b[0m\u001b[0;34m:\u001b[0m\u001b[0;34m\u001b[0m\u001b[0;34m\u001b[0m\u001b[0m\n\u001b[1;32m      5\u001b[0m     \u001b[0;32mif\u001b[0m \u001b[0misinstance\u001b[0m\u001b[0;34m(\u001b[0m\u001b[0mkey\u001b[0m\u001b[0;34m,\u001b[0m \u001b[0mstr\u001b[0m\u001b[0;34m)\u001b[0m\u001b[0;34m:\u001b[0m\u001b[0;34m\u001b[0m\u001b[0;34m\u001b[0m\u001b[0m\n\u001b[0;32m----> 6\u001b[0;31m       \u001b[0;32mraise\u001b[0m \u001b[0mKeyError\u001b[0m\u001b[0;34m(\u001b[0m\u001b[0mkey\u001b[0m\u001b[0;34m,\u001b[0m \u001b[0mstr\u001b[0m\u001b[0;34m)\u001b[0m\u001b[0;34m\u001b[0m\u001b[0;34m\u001b[0m\u001b[0m\n\u001b[0m\u001b[1;32m      7\u001b[0m     \u001b[0;32mreturn\u001b[0m \u001b[0mself\u001b[0m\u001b[0;34m[\u001b[0m\u001b[0mstr\u001b[0m\u001b[0;34m(\u001b[0m\u001b[0mkey\u001b[0m\u001b[0;34m)\u001b[0m\u001b[0;34m]\u001b[0m\u001b[0;34m\u001b[0m\u001b[0;34m\u001b[0m\u001b[0m\n\u001b[1;32m      8\u001b[0m \u001b[0;34m\u001b[0m\u001b[0m\n",
            "\u001b[0;31mKeyError\u001b[0m: ('1', <class 'str'>)"
          ]
        }
      ]
    },
    {
      "cell_type": "code",
      "source": [
        "#예제8\n",
        "class StrKeyDict(collections.UserDict):\n",
        "  def __missing__(self, key):\n",
        "    if isinstance(key, str):\n",
        "      raise KeyError(key)\n",
        "    return self[str(key)]\n",
        "\n",
        "  def __contains__(self, key):\n",
        "    return str(key) in self.data\n",
        "\n",
        "  def __setitem__(self, key, item):\n",
        "    self.data[str(key)] = item"
      ],
      "metadata": {
        "id": "oaGCaRDBGPmj"
      },
      "execution_count": 51,
      "outputs": []
    },
    {
      "cell_type": "code",
      "source": [
        "# 예제9\n",
        "from types import MappingProxyType\n",
        "\n",
        "d = {1: 'A'}\n",
        "d_proxy = MappingProxyType(d)\n",
        "d_proxy"
      ],
      "metadata": {
        "colab": {
          "base_uri": "https://localhost:8080/"
        },
        "id": "F4jx8TT1GPph",
        "outputId": "b302afb3-0614-40ef-96ce-76379c1a45db"
      },
      "execution_count": 52,
      "outputs": [
        {
          "output_type": "execute_result",
          "data": {
            "text/plain": [
              "mappingproxy({1: 'A'})"
            ]
          },
          "metadata": {},
          "execution_count": 52
        }
      ]
    },
    {
      "cell_type": "code",
      "source": [
        "d_proxy[1]"
      ],
      "metadata": {
        "colab": {
          "base_uri": "https://localhost:8080/",
          "height": 35
        },
        "id": "YZoofN-TKDX9",
        "outputId": "2524581a-1eb5-448b-8388-06bb3129b187"
      },
      "execution_count": 53,
      "outputs": [
        {
          "output_type": "execute_result",
          "data": {
            "text/plain": [
              "'A'"
            ],
            "application/vnd.google.colaboratory.intrinsic+json": {
              "type": "string"
            }
          },
          "metadata": {},
          "execution_count": 53
        }
      ]
    },
    {
      "cell_type": "code",
      "source": [
        "d_proxy[2] = 'x'"
      ],
      "metadata": {
        "colab": {
          "base_uri": "https://localhost:8080/",
          "height": 147
        },
        "id": "ryU9FN6FKIta",
        "outputId": "422bdea1-33ad-4038-fbc2-b583c287921d"
      },
      "execution_count": 54,
      "outputs": [
        {
          "output_type": "error",
          "ename": "TypeError",
          "evalue": "'mappingproxy' object does not support item assignment",
          "traceback": [
            "\u001b[0;31m---------------------------------------------------------------------------\u001b[0m",
            "\u001b[0;31mTypeError\u001b[0m                                 Traceback (most recent call last)",
            "\u001b[0;32m/tmp/ipython-input-184757266.py\u001b[0m in \u001b[0;36m<cell line: 0>\u001b[0;34m()\u001b[0m\n\u001b[0;32m----> 1\u001b[0;31m \u001b[0md_proxy\u001b[0m\u001b[0;34m[\u001b[0m\u001b[0;36m2\u001b[0m\u001b[0;34m]\u001b[0m \u001b[0;34m=\u001b[0m \u001b[0;34m'x'\u001b[0m\u001b[0;34m\u001b[0m\u001b[0;34m\u001b[0m\u001b[0m\n\u001b[0m",
            "\u001b[0;31mTypeError\u001b[0m: 'mappingproxy' object does not support item assignment"
          ]
        }
      ]
    },
    {
      "cell_type": "code",
      "source": [
        "d[2] = 'B'\n",
        "d_proxy"
      ],
      "metadata": {
        "colab": {
          "base_uri": "https://localhost:8080/"
        },
        "id": "To---arhKL7S",
        "outputId": "7a2bf164-8013-4b16-986c-29228e83d2e7"
      },
      "execution_count": 55,
      "outputs": [
        {
          "output_type": "execute_result",
          "data": {
            "text/plain": [
              "mappingproxy({1: 'A', 2: 'B'})"
            ]
          },
          "metadata": {},
          "execution_count": 55
        }
      ]
    },
    {
      "cell_type": "code",
      "source": [
        "#예제10\n",
        "l = [\"spam\", \"spam\", \"eggs\", \"spam\"]\n",
        "set(l)"
      ],
      "metadata": {
        "colab": {
          "base_uri": "https://localhost:8080/"
        },
        "id": "YlcijZAMGPtB",
        "outputId": "eb0978e1-97e7-4252-e8f4-0671be730b2e"
      },
      "execution_count": 56,
      "outputs": [
        {
          "output_type": "execute_result",
          "data": {
            "text/plain": [
              "{'eggs', 'spam'}"
            ]
          },
          "metadata": {},
          "execution_count": 56
        }
      ]
    },
    {
      "cell_type": "code",
      "source": [
        "list(set(l))"
      ],
      "metadata": {
        "colab": {
          "base_uri": "https://localhost:8080/"
        },
        "id": "-hMxixr0KVVt",
        "outputId": "ae61480b-40df-48aa-aeb7-bd0e905e0ed1"
      },
      "execution_count": 57,
      "outputs": [
        {
          "output_type": "execute_result",
          "data": {
            "text/plain": [
              "['eggs', 'spam']"
            ]
          },
          "metadata": {},
          "execution_count": 57
        }
      ]
    },
    {
      "cell_type": "code",
      "source": [
        "#예제11\n",
        "l = set([\"spam\", \"spam\", \"eggs\", \"spam\", \"eggs\", \"meats\", \"onions\", \"onions\"])\n",
        "m = set([\"eggs\", \"onions\"])\n",
        "\n",
        "found = len(l & m)\n",
        "found"
      ],
      "metadata": {
        "colab": {
          "base_uri": "https://localhost:8080/"
        },
        "id": "jJaLpcHpGPv8",
        "outputId": "a0261990-9905-4ab5-d6f3-acbb4878c6af"
      },
      "execution_count": 58,
      "outputs": [
        {
          "output_type": "execute_result",
          "data": {
            "text/plain": [
              "2"
            ]
          },
          "metadata": {},
          "execution_count": 58
        }
      ]
    },
    {
      "cell_type": "code",
      "source": [
        "found = 0\n",
        "for n in l:\n",
        "    if n in m:\n",
        "        found += 1\n",
        "print(found)"
      ],
      "metadata": {
        "colab": {
          "base_uri": "https://localhost:8080/"
        },
        "id": "1-71EhprKbk3",
        "outputId": "9ccaad5b-3dec-4617-8f6d-50ff7cca3569"
      },
      "execution_count": 59,
      "outputs": [
        {
          "output_type": "stream",
          "name": "stdout",
          "text": [
            "2\n"
          ]
        }
      ]
    },
    {
      "cell_type": "code",
      "source": [
        "found = len(l.intersection(m))\n",
        "print(found)"
      ],
      "metadata": {
        "colab": {
          "base_uri": "https://localhost:8080/"
        },
        "id": "1Os_g1ATKc-M",
        "outputId": "3fb72c34-bfa3-4baa-d7b8-48ec68256b7a"
      },
      "execution_count": 60,
      "outputs": [
        {
          "output_type": "stream",
          "name": "stdout",
          "text": [
            "2\n"
          ]
        }
      ]
    },
    {
      "cell_type": "code",
      "source": [
        "#예제12\n",
        "s = {1}\n",
        "print(type(s))\n",
        "print(s)\n",
        "\n",
        "s.pop()\n",
        "print(s)"
      ],
      "metadata": {
        "colab": {
          "base_uri": "https://localhost:8080/"
        },
        "id": "eVOeK6EZGPyp",
        "outputId": "88e5b770-4e2b-4b33-8f06-05f78ef7695f"
      },
      "execution_count": 61,
      "outputs": [
        {
          "output_type": "stream",
          "name": "stdout",
          "text": [
            "<class 'set'>\n",
            "{1}\n",
            "set()\n"
          ]
        }
      ]
    },
    {
      "cell_type": "code",
      "source": [
        "#예제13\n",
        "from unicodedata import name\n",
        "{chr(i) for i in range(32, 256) if 'SIGN' in name(chr(i), '')}"
      ],
      "metadata": {
        "colab": {
          "base_uri": "https://localhost:8080/"
        },
        "id": "B1g5BGItKhU2",
        "outputId": "83974ff5-382a-4bf1-9977-e6cb9cd613e7"
      },
      "execution_count": 62,
      "outputs": [
        {
          "output_type": "execute_result",
          "data": {
            "text/plain": [
              "{'#',\n",
              " '$',\n",
              " '%',\n",
              " '+',\n",
              " '<',\n",
              " '=',\n",
              " '>',\n",
              " '¢',\n",
              " '£',\n",
              " '¤',\n",
              " '¥',\n",
              " '§',\n",
              " '©',\n",
              " '¬',\n",
              " '®',\n",
              " '°',\n",
              " '±',\n",
              " 'µ',\n",
              " '¶',\n",
              " '×',\n",
              " '÷'}"
            ]
          },
          "metadata": {},
          "execution_count": 62
        }
      ]
    },
    {
      "cell_type": "code",
      "source": [
        "#예제14\n",
        "DIAL_CODES = [\n",
        "    (86, 'China'),\n",
        "    (91, 'India'),\n",
        "    (1, 'United States'),\n",
        "    (92, 'Pakistan'),\n",
        "    (7, 'Russia')\n",
        "]\n",
        "\n",
        "d1 = dict(DIAL_CODES)\n",
        "print(f'd1: {d1.keys()}')\n",
        "\n",
        "d2 = dict(sorted(DIAL_CODES))\n",
        "print(f'd2: {d2.keys()}')\n",
        "\n",
        "d3 = dict(sorted(DIAL_CODES, key=lambda x:x[1]))\n",
        "print(f'd3: {d3.keys()}')\n",
        "\n",
        "assert d1 == d2 and d2 == d3"
      ],
      "metadata": {
        "colab": {
          "base_uri": "https://localhost:8080/"
        },
        "id": "Fnc36qBFKk1-",
        "outputId": "f3de5778-a265-4700-d341-001d0e9df016"
      },
      "execution_count": 63,
      "outputs": [
        {
          "output_type": "stream",
          "name": "stdout",
          "text": [
            "d1: dict_keys([86, 91, 1, 92, 7])\n",
            "d2: dict_keys([1, 7, 86, 91, 92])\n",
            "d3: dict_keys([86, 91, 92, 7, 1])\n"
          ]
        }
      ]
    }
  ]
}